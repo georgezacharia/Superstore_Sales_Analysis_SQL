{
 "cells": [
  {
   "cell_type": "markdown",
   "id": "4f1987ef-d1cd-4722-a0f1-6ea97fa8ece2",
   "metadata": {},
   "source": [
    "# Introduction\n",
    "\n",
    "In this analysis, we leverage SQL to extract and analyze key insights from the Superstore dataset. The dataset encompasses a wide range of information including orders, products, customers, and sales metrics. By employing SQL queries, we can efficiently aggregate data, compute total sales and profits, and identify trends across different dimensions such as categories, regions, and time periods. This notebook showcases various SQL-based queries to uncover critical business insights, which are further visualized to facilitate a comprehensive understanding of sales performance and strategic opportunities."
   ]
  },
  {
   "cell_type": "markdown",
   "id": "664f4e1a-0dde-4500-a27a-32e2d3032284",
   "metadata": {},
   "source": [
    "## Setup and Load Data"
   ]
  },
  {
   "cell_type": "code",
   "execution_count": 156,
   "id": "076886da-4d7e-4c74-a277-98c16599ef45",
   "metadata": {},
   "outputs": [],
   "source": [
    "import sqlite3"
   ]
  },
  {
   "cell_type": "code",
   "execution_count": 158,
   "id": "fbe111b5-eb2a-4526-bd6f-436ad92c27e4",
   "metadata": {},
   "outputs": [],
   "source": [
    "import pandas as pd"
   ]
  },
  {
   "cell_type": "code",
   "execution_count": 170,
   "id": "b7a38203-9af3-4c8a-be9e-bfd7d8c0092a",
   "metadata": {},
   "outputs": [],
   "source": [
    "import pandasql as ps"
   ]
  },
  {
   "cell_type": "markdown",
   "id": "db645fc6-de1d-408b-94b3-81e692fe136a",
   "metadata": {},
   "source": [
    "###  Load the Excel file"
   ]
  },
  {
   "cell_type": "code",
   "execution_count": 160,
   "id": "a52dbecb-b913-49ff-be90-8928aa19574b",
   "metadata": {},
   "outputs": [],
   "source": [
    "file_path = r'C:\\Users\\LENOVO\\Desktop\\Excel & Data Anlysis\\Sample - Superstore.xlsx'"
   ]
  },
  {
   "cell_type": "code",
   "execution_count": 162,
   "id": "de88aa57-067c-478d-9bab-74bb2e440517",
   "metadata": {},
   "outputs": [],
   "source": [
    "df = pd.read_excel(file_path, sheet_name='Orders')"
   ]
  },
  {
   "cell_type": "markdown",
   "id": "2e8af349-af94-44d2-8f3c-a9d32f9cf9b8",
   "metadata": {},
   "source": [
    "### Connect to SQLite database (in-memory)"
   ]
  },
  {
   "cell_type": "code",
   "execution_count": 164,
   "id": "ff4196ab-f086-4156-9057-87d3a4e6eeb2",
   "metadata": {},
   "outputs": [],
   "source": [
    "conn = sqlite3.connect(':memory:')"
   ]
  },
  {
   "cell_type": "markdown",
   "id": "01c94472-4bf2-4ae2-95d3-31e3970fd3ca",
   "metadata": {},
   "source": [
    "### Load DataFrame into SQL"
   ]
  },
  {
   "cell_type": "code",
   "execution_count": 166,
   "id": "259eb83a-5977-4fe0-b7db-fd02ca7dbfa8",
   "metadata": {},
   "outputs": [
    {
     "data": {
      "text/plain": [
       "10194"
      ]
     },
     "execution_count": 166,
     "metadata": {},
     "output_type": "execute_result"
    }
   ],
   "source": [
    "df.to_sql('orders', conn, index=False, if_exists='replace')"
   ]
  },
  {
   "cell_type": "markdown",
   "id": "c9eba30f-7294-4cc5-bc28-ef8bba7558bf",
   "metadata": {},
   "source": [
    "## Step 2: Perform SQL Queries"
   ]
  },
  {
   "cell_type": "markdown",
   "id": "b659b6a2-5795-47db-b192-d2c8ef0f90a1",
   "metadata": {},
   "source": [
    "### 1. Top 10 Products by Sales"
   ]
  },
  {
   "cell_type": "code",
   "execution_count": 17,
   "id": "9853b4b2-5b24-4e34-a808-0d9043e3f4ec",
   "metadata": {},
   "outputs": [],
   "source": [
    "query = \"\"\"\n",
    "SELECT \"Product Name\", SUM(Sales) AS TotalSales\n",
    "FROM orders\n",
    "GROUP BY \"Product Name\"\n",
    "ORDER BY TotalSales DESC\n",
    "LIMIT 10;\n",
    "\"\"\""
   ]
  },
  {
   "cell_type": "code",
   "execution_count": 19,
   "id": "1789bb6c-be45-4416-874f-1cb4c6468b64",
   "metadata": {},
   "outputs": [],
   "source": [
    "top_products = pd.read_sql(query, conn)"
   ]
  },
  {
   "cell_type": "code",
   "execution_count": 21,
   "id": "506c79f3-a9dc-48fe-abee-cc4b5d0b2681",
   "metadata": {},
   "outputs": [
    {
     "data": {
      "text/html": [
       "<div>\n",
       "<style scoped>\n",
       "    .dataframe tbody tr th:only-of-type {\n",
       "        vertical-align: middle;\n",
       "    }\n",
       "\n",
       "    .dataframe tbody tr th {\n",
       "        vertical-align: top;\n",
       "    }\n",
       "\n",
       "    .dataframe thead th {\n",
       "        text-align: right;\n",
       "    }\n",
       "</style>\n",
       "<table border=\"1\" class=\"dataframe\">\n",
       "  <thead>\n",
       "    <tr style=\"text-align: right;\">\n",
       "      <th></th>\n",
       "      <th>Product Name</th>\n",
       "      <th>TotalSales</th>\n",
       "    </tr>\n",
       "  </thead>\n",
       "  <tbody>\n",
       "    <tr>\n",
       "      <th>0</th>\n",
       "      <td>Canon imageCLASS 2200 Advanced Copier</td>\n",
       "      <td>61599.824</td>\n",
       "    </tr>\n",
       "    <tr>\n",
       "      <th>1</th>\n",
       "      <td>Fellowes PB500 Electric Punch Plastic Comb Bin...</td>\n",
       "      <td>27453.384</td>\n",
       "    </tr>\n",
       "    <tr>\n",
       "      <th>2</th>\n",
       "      <td>Cisco TelePresence System EX90 Videoconferenci...</td>\n",
       "      <td>22638.480</td>\n",
       "    </tr>\n",
       "    <tr>\n",
       "      <th>3</th>\n",
       "      <td>HON 5400 Series Task Chairs for Big and Tall</td>\n",
       "      <td>21870.576</td>\n",
       "    </tr>\n",
       "    <tr>\n",
       "      <th>4</th>\n",
       "      <td>GBC DocuBind TL300 Electric Binding System</td>\n",
       "      <td>19823.479</td>\n",
       "    </tr>\n",
       "    <tr>\n",
       "      <th>5</th>\n",
       "      <td>GBC Ibimaster 500 Manual ProClick Binding System</td>\n",
       "      <td>19024.500</td>\n",
       "    </tr>\n",
       "    <tr>\n",
       "      <th>6</th>\n",
       "      <td>Hewlett Packard LaserJet 3310 Copier</td>\n",
       "      <td>18839.686</td>\n",
       "    </tr>\n",
       "    <tr>\n",
       "      <th>7</th>\n",
       "      <td>HP Designjet T520 Inkjet Large Format Printer ...</td>\n",
       "      <td>18374.895</td>\n",
       "    </tr>\n",
       "    <tr>\n",
       "      <th>8</th>\n",
       "      <td>GBC DocuBind P400 Electric Binding System</td>\n",
       "      <td>17965.068</td>\n",
       "    </tr>\n",
       "    <tr>\n",
       "      <th>9</th>\n",
       "      <td>High Speed Automatic Electric Letter Opener</td>\n",
       "      <td>17030.312</td>\n",
       "    </tr>\n",
       "  </tbody>\n",
       "</table>\n",
       "</div>"
      ],
      "text/plain": [
       "                                        Product Name  TotalSales\n",
       "0              Canon imageCLASS 2200 Advanced Copier   61599.824\n",
       "1  Fellowes PB500 Electric Punch Plastic Comb Bin...   27453.384\n",
       "2  Cisco TelePresence System EX90 Videoconferenci...   22638.480\n",
       "3       HON 5400 Series Task Chairs for Big and Tall   21870.576\n",
       "4         GBC DocuBind TL300 Electric Binding System   19823.479\n",
       "5   GBC Ibimaster 500 Manual ProClick Binding System   19024.500\n",
       "6               Hewlett Packard LaserJet 3310 Copier   18839.686\n",
       "7  HP Designjet T520 Inkjet Large Format Printer ...   18374.895\n",
       "8          GBC DocuBind P400 Electric Binding System   17965.068\n",
       "9        High Speed Automatic Electric Letter Opener   17030.312"
      ]
     },
     "execution_count": 21,
     "metadata": {},
     "output_type": "execute_result"
    }
   ],
   "source": [
    "top_products"
   ]
  },
  {
   "cell_type": "markdown",
   "id": "856876b4-f12c-4336-b22f-6dca18ad63c6",
   "metadata": {},
   "source": [
    "### 2.Total Sales by Category"
   ]
  },
  {
   "cell_type": "code",
   "execution_count": 23,
   "id": "69690b3a-23f1-4a0b-a6f5-5e3f61a8c866",
   "metadata": {},
   "outputs": [],
   "source": [
    "query = \"\"\"\n",
    "SELECT Category, SUM(Sales) AS TotalSales\n",
    "FROM orders\n",
    "GROUP BY Category\n",
    "ORDER BY TotalSales DESC;\n",
    "\"\"\""
   ]
  },
  {
   "cell_type": "code",
   "execution_count": 25,
   "id": "8a83739e-9f67-46f0-a746-639a48566276",
   "metadata": {},
   "outputs": [],
   "source": [
    "sales_by_category = pd.read_sql(query, conn)"
   ]
  },
  {
   "cell_type": "code",
   "execution_count": 27,
   "id": "2276515c-9370-48ee-94d5-5f210a254ca3",
   "metadata": {},
   "outputs": [
    {
     "data": {
      "text/html": [
       "<div>\n",
       "<style scoped>\n",
       "    .dataframe tbody tr th:only-of-type {\n",
       "        vertical-align: middle;\n",
       "    }\n",
       "\n",
       "    .dataframe tbody tr th {\n",
       "        vertical-align: top;\n",
       "    }\n",
       "\n",
       "    .dataframe thead th {\n",
       "        text-align: right;\n",
       "    }\n",
       "</style>\n",
       "<table border=\"1\" class=\"dataframe\">\n",
       "  <thead>\n",
       "    <tr style=\"text-align: right;\">\n",
       "      <th></th>\n",
       "      <th>Category</th>\n",
       "      <th>TotalSales</th>\n",
       "    </tr>\n",
       "  </thead>\n",
       "  <tbody>\n",
       "    <tr>\n",
       "      <th>0</th>\n",
       "      <td>Technology</td>\n",
       "      <td>839893.2790</td>\n",
       "    </tr>\n",
       "    <tr>\n",
       "      <th>1</th>\n",
       "      <td>Furniture</td>\n",
       "      <td>754747.7613</td>\n",
       "    </tr>\n",
       "    <tr>\n",
       "      <th>2</th>\n",
       "      <td>Office Supplies</td>\n",
       "      <td>731893.3140</td>\n",
       "    </tr>\n",
       "  </tbody>\n",
       "</table>\n",
       "</div>"
      ],
      "text/plain": [
       "          Category   TotalSales\n",
       "0       Technology  839893.2790\n",
       "1        Furniture  754747.7613\n",
       "2  Office Supplies  731893.3140"
      ]
     },
     "execution_count": 27,
     "metadata": {},
     "output_type": "execute_result"
    }
   ],
   "source": [
    "sales_by_category"
   ]
  },
  {
   "cell_type": "markdown",
   "id": "8dd249ba-131b-451a-87ee-ff85e264207e",
   "metadata": {},
   "source": [
    "### 3. Total Profit by Sub-Category"
   ]
  },
  {
   "cell_type": "code",
   "execution_count": 29,
   "id": "97e2d743-cf47-464f-af10-914acfbc4a62",
   "metadata": {},
   "outputs": [],
   "source": [
    "query = \"\"\"\n",
    "SELECT \"Sub-Category\", SUM(Profit) AS TotalProfit\n",
    "FROM orders\n",
    "GROUP BY \"Sub-Category\"\n",
    "ORDER BY TotalProfit DESC;\n",
    "\"\"\""
   ]
  },
  {
   "cell_type": "code",
   "execution_count": 31,
   "id": "a903e794-11c4-4c18-80c9-cab5e2eedd93",
   "metadata": {},
   "outputs": [],
   "source": [
    "profit_by_sub_category = pd.read_sql(query, conn)"
   ]
  },
  {
   "cell_type": "code",
   "execution_count": 33,
   "id": "5c5ab9a2-7076-4b85-b0fb-606de97f071f",
   "metadata": {},
   "outputs": [
    {
     "data": {
      "text/html": [
       "<div>\n",
       "<style scoped>\n",
       "    .dataframe tbody tr th:only-of-type {\n",
       "        vertical-align: middle;\n",
       "    }\n",
       "\n",
       "    .dataframe tbody tr th {\n",
       "        vertical-align: top;\n",
       "    }\n",
       "\n",
       "    .dataframe thead th {\n",
       "        text-align: right;\n",
       "    }\n",
       "</style>\n",
       "<table border=\"1\" class=\"dataframe\">\n",
       "  <thead>\n",
       "    <tr style=\"text-align: right;\">\n",
       "      <th></th>\n",
       "      <th>Sub-Category</th>\n",
       "      <th>TotalProfit</th>\n",
       "    </tr>\n",
       "  </thead>\n",
       "  <tbody>\n",
       "    <tr>\n",
       "      <th>0</th>\n",
       "      <td>Copiers</td>\n",
       "      <td>56093.9365</td>\n",
       "    </tr>\n",
       "    <tr>\n",
       "      <th>1</th>\n",
       "      <td>Phones</td>\n",
       "      <td>45050.8265</td>\n",
       "    </tr>\n",
       "    <tr>\n",
       "      <th>2</th>\n",
       "      <td>Accessories</td>\n",
       "      <td>41936.6357</td>\n",
       "    </tr>\n",
       "    <tr>\n",
       "      <th>3</th>\n",
       "      <td>Paper</td>\n",
       "      <td>34511.5070</td>\n",
       "    </tr>\n",
       "    <tr>\n",
       "      <th>4</th>\n",
       "      <td>Binders</td>\n",
       "      <td>31426.1003</td>\n",
       "    </tr>\n",
       "    <tr>\n",
       "      <th>5</th>\n",
       "      <td>Chairs</td>\n",
       "      <td>27223.5323</td>\n",
       "    </tr>\n",
       "    <tr>\n",
       "      <th>6</th>\n",
       "      <td>Storage</td>\n",
       "      <td>21285.1115</td>\n",
       "    </tr>\n",
       "    <tr>\n",
       "      <th>7</th>\n",
       "      <td>Appliances</td>\n",
       "      <td>18329.4844</td>\n",
       "    </tr>\n",
       "    <tr>\n",
       "      <th>8</th>\n",
       "      <td>Furnishings</td>\n",
       "      <td>13891.7430</td>\n",
       "    </tr>\n",
       "    <tr>\n",
       "      <th>9</th>\n",
       "      <td>Envelopes</td>\n",
       "      <td>6988.0247</td>\n",
       "    </tr>\n",
       "    <tr>\n",
       "      <th>10</th>\n",
       "      <td>Art</td>\n",
       "      <td>6653.1962</td>\n",
       "    </tr>\n",
       "    <tr>\n",
       "      <th>11</th>\n",
       "      <td>Labels</td>\n",
       "      <td>5572.7780</td>\n",
       "    </tr>\n",
       "    <tr>\n",
       "      <th>12</th>\n",
       "      <td>Machines</td>\n",
       "      <td>3461.9769</td>\n",
       "    </tr>\n",
       "    <tr>\n",
       "      <th>13</th>\n",
       "      <td>Fasteners</td>\n",
       "      <td>2428.6358</td>\n",
       "    </tr>\n",
       "    <tr>\n",
       "      <th>14</th>\n",
       "      <td>Supplies</td>\n",
       "      <td>-1171.3945</td>\n",
       "    </tr>\n",
       "    <tr>\n",
       "      <th>15</th>\n",
       "      <td>Bookcases</td>\n",
       "      <td>-3632.0736</td>\n",
       "    </tr>\n",
       "    <tr>\n",
       "      <th>16</th>\n",
       "      <td>Tables</td>\n",
       "      <td>-17753.2061</td>\n",
       "    </tr>\n",
       "  </tbody>\n",
       "</table>\n",
       "</div>"
      ],
      "text/plain": [
       "   Sub-Category  TotalProfit\n",
       "0       Copiers   56093.9365\n",
       "1        Phones   45050.8265\n",
       "2   Accessories   41936.6357\n",
       "3         Paper   34511.5070\n",
       "4       Binders   31426.1003\n",
       "5        Chairs   27223.5323\n",
       "6       Storage   21285.1115\n",
       "7    Appliances   18329.4844\n",
       "8   Furnishings   13891.7430\n",
       "9     Envelopes    6988.0247\n",
       "10          Art    6653.1962\n",
       "11       Labels    5572.7780\n",
       "12     Machines    3461.9769\n",
       "13    Fasteners    2428.6358\n",
       "14     Supplies   -1171.3945\n",
       "15    Bookcases   -3632.0736\n",
       "16       Tables  -17753.2061"
      ]
     },
     "execution_count": 33,
     "metadata": {},
     "output_type": "execute_result"
    }
   ],
   "source": [
    "profit_by_sub_category"
   ]
  },
  {
   "cell_type": "markdown",
   "id": "bed9c3b7-21d9-4ae9-ac53-a15ed91ca898",
   "metadata": {},
   "source": [
    "### Profit by Sub-Category:Bar Chart"
   ]
  },
  {
   "cell_type": "code",
   "execution_count": 274,
   "id": "86bd74f8-f53a-4889-9c1d-37fdaf551c4f",
   "metadata": {},
   "outputs": [
    {
     "data": {
      "image/png": "[encoded data removed]",
      "text/plain": [
       "<Figure size 1200x800 with 1 Axes>"
      ]
     },
     "metadata": {},
     "output_type": "display_data"
    }
   ],
   "source": [
    "plt.figure(figsize=(12,8))\n",
    "plt.bar(profit_by_sub_category['Sub-Category'], profit_by_sub_category['TotalProfit'], color='lightblue')\n",
    "plt.title('Total Profit by Sub-Category')\n",
    "plt.xlabel('Sub-Category')\n",
    "plt.ylabel('Total Profit')\n",
    "plt.xticks(rotation=45)\n",
    "plt.grid(True)\n",
    "plt.show()"
   ]
  },
  {
   "cell_type": "markdown",
   "id": "737c2d70-b990-49c4-99a2-36cfd31a8a1b",
   "metadata": {},
   "source": [
    "### 4. Sales by Region"
   ]
  },
  {
   "cell_type": "code",
   "execution_count": 35,
   "id": "3346c5e7-8759-449e-8183-59d2c05bd085",
   "metadata": {},
   "outputs": [],
   "source": [
    "query = \"\"\"\n",
    "SELECT Region, SUM(Sales) AS TotalSales\n",
    "FROM orders\n",
    "GROUP BY Region\n",
    "ORDER BY TotalSales DESC;\n",
    "\"\"\""
   ]
  },
  {
   "cell_type": "code",
   "execution_count": 37,
   "id": "5e7ac17b-9f7c-4778-a3b2-e4e15be29558",
   "metadata": {},
   "outputs": [],
   "source": [
    "sales_by_region = pd.read_sql(query, conn)"
   ]
  },
  {
   "cell_type": "code",
   "execution_count": 39,
   "id": "bb517d80-1dfe-49a9-85b5-55eb0b6c8c66",
   "metadata": {},
   "outputs": [
    {
     "data": {
      "text/html": [
       "<div>\n",
       "<style scoped>\n",
       "    .dataframe tbody tr th:only-of-type {\n",
       "        vertical-align: middle;\n",
       "    }\n",
       "\n",
       "    .dataframe tbody tr th {\n",
       "        vertical-align: top;\n",
       "    }\n",
       "\n",
       "    .dataframe thead th {\n",
       "        text-align: right;\n",
       "    }\n",
       "</style>\n",
       "<table border=\"1\" class=\"dataframe\">\n",
       "  <thead>\n",
       "    <tr style=\"text-align: right;\">\n",
       "      <th></th>\n",
       "      <th>Region</th>\n",
       "      <th>TotalSales</th>\n",
       "    </tr>\n",
       "  </thead>\n",
       "  <tbody>\n",
       "    <tr>\n",
       "      <th>0</th>\n",
       "      <td>West</td>\n",
       "      <td>739813.6085</td>\n",
       "    </tr>\n",
       "    <tr>\n",
       "      <th>1</th>\n",
       "      <td>East</td>\n",
       "      <td>691828.1680</td>\n",
       "    </tr>\n",
       "    <tr>\n",
       "      <th>2</th>\n",
       "      <td>Central</td>\n",
       "      <td>503170.6728</td>\n",
       "    </tr>\n",
       "    <tr>\n",
       "      <th>3</th>\n",
       "      <td>South</td>\n",
       "      <td>391721.9050</td>\n",
       "    </tr>\n",
       "  </tbody>\n",
       "</table>\n",
       "</div>"
      ],
      "text/plain": [
       "    Region   TotalSales\n",
       "0     West  739813.6085\n",
       "1     East  691828.1680\n",
       "2  Central  503170.6728\n",
       "3    South  391721.9050"
      ]
     },
     "execution_count": 39,
     "metadata": {},
     "output_type": "execute_result"
    }
   ],
   "source": [
    "sales_by_region"
   ]
  },
  {
   "cell_type": "markdown",
   "id": "58ac1047-45cc-4967-b00c-ad70e6c5aefb",
   "metadata": {},
   "source": [
    "### Sales by Region Bar Chart"
   ]
  },
  {
   "cell_type": "code",
   "execution_count": 251,
   "id": "36489a58-9532-4b24-bf96-934712e328cf",
   "metadata": {},
   "outputs": [
    {
     "data": {
      "image/png": "[encoded data removed]",
      "text/plain": [
       "<Figure size 1000x600 with 1 Axes>"
      ]
     },
     "metadata": {},
     "output_type": "display_data"
    }
   ],
   "source": [
    "plt.figure(figsize=(10,6))\n",
    "plt.bar(sales_by_region['Region'], sales_by_region['TotalSales'], color='teal')\n",
    "plt.title('Total Sales by Region')\n",
    "plt.xlabel('Region')\n",
    "plt.ylabel('Total Sales')\n",
    "plt.xticks(rotation=45)\n",
    "plt.grid(True)\n",
    "plt.show()"
   ]
  },
  {
   "cell_type": "markdown",
   "id": "22810537-6549-4c4d-8383-af0d2646c381",
   "metadata": {},
   "source": [
    "### 5. Top 5 Customers by Sales"
   ]
  },
  {
   "cell_type": "code",
   "execution_count": 41,
   "id": "7d656c0b-4e37-40c1-b058-bc70cb9ee3d9",
   "metadata": {},
   "outputs": [],
   "source": [
    "query = \"\"\"\n",
    "SELECT \"Customer Name\", SUM(Sales) AS TotalSales\n",
    "FROM orders\n",
    "GROUP BY \"Customer Name\"\n",
    "ORDER BY TotalSales DESC\n",
    "LIMIT 5;\n",
    "\"\"\""
   ]
  },
  {
   "cell_type": "code",
   "execution_count": 43,
   "id": "753c6ca7-4997-4ce4-8822-d12c62c4862a",
   "metadata": {},
   "outputs": [],
   "source": [
    "top_customers = pd.read_sql(query, conn)"
   ]
  },
  {
   "cell_type": "code",
   "execution_count": 45,
   "id": "5daf02d1-a8e8-409a-ae61-331b0bfe8657",
   "metadata": {},
   "outputs": [
    {
     "data": {
      "text/html": [
       "<div>\n",
       "<style scoped>\n",
       "    .dataframe tbody tr th:only-of-type {\n",
       "        vertical-align: middle;\n",
       "    }\n",
       "\n",
       "    .dataframe tbody tr th {\n",
       "        vertical-align: top;\n",
       "    }\n",
       "\n",
       "    .dataframe thead th {\n",
       "        text-align: right;\n",
       "    }\n",
       "</style>\n",
       "<table border=\"1\" class=\"dataframe\">\n",
       "  <thead>\n",
       "    <tr style=\"text-align: right;\">\n",
       "      <th></th>\n",
       "      <th>Customer Name</th>\n",
       "      <th>TotalSales</th>\n",
       "    </tr>\n",
       "  </thead>\n",
       "  <tbody>\n",
       "    <tr>\n",
       "      <th>0</th>\n",
       "      <td>Sean Miller</td>\n",
       "      <td>25043.050</td>\n",
       "    </tr>\n",
       "    <tr>\n",
       "      <th>1</th>\n",
       "      <td>Tamara Chand</td>\n",
       "      <td>19052.218</td>\n",
       "    </tr>\n",
       "    <tr>\n",
       "      <th>2</th>\n",
       "      <td>Raymond Buch</td>\n",
       "      <td>15117.339</td>\n",
       "    </tr>\n",
       "    <tr>\n",
       "      <th>3</th>\n",
       "      <td>Tom Ashbrook</td>\n",
       "      <td>14595.620</td>\n",
       "    </tr>\n",
       "    <tr>\n",
       "      <th>4</th>\n",
       "      <td>Adrian Barton</td>\n",
       "      <td>14473.571</td>\n",
       "    </tr>\n",
       "  </tbody>\n",
       "</table>\n",
       "</div>"
      ],
      "text/plain": [
       "   Customer Name  TotalSales\n",
       "0    Sean Miller   25043.050\n",
       "1   Tamara Chand   19052.218\n",
       "2   Raymond Buch   15117.339\n",
       "3   Tom Ashbrook   14595.620\n",
       "4  Adrian Barton   14473.571"
      ]
     },
     "execution_count": 45,
     "metadata": {},
     "output_type": "execute_result"
    }
   ],
   "source": [
    "top_customers"
   ]
  },
  {
   "cell_type": "markdown",
   "id": "27cc8484-ee07-447b-a6ad-3d4406c98243",
   "metadata": {},
   "source": [
    "### 6. Average Discount by Category"
   ]
  },
  {
   "cell_type": "code",
   "execution_count": 47,
   "id": "3573130a-a354-42e8-a6f7-cf91382e3206",
   "metadata": {},
   "outputs": [],
   "source": [
    "query = \"\"\"\n",
    "SELECT Category, AVG(Discount) AS AverageDiscount\n",
    "FROM orders\n",
    "GROUP BY Category;\n",
    "\"\"\""
   ]
  },
  {
   "cell_type": "code",
   "execution_count": 49,
   "id": "15f9ac26-d102-4066-b563-9950f405f6af",
   "metadata": {},
   "outputs": [],
   "source": [
    "avg_discount_by_category = pd.read_sql(query, conn)"
   ]
  },
  {
   "cell_type": "code",
   "execution_count": 51,
   "id": "bd70f50f-501c-40bf-9784-3966498a7c26",
   "metadata": {},
   "outputs": [
    {
     "data": {
      "text/html": [
       "<div>\n",
       "<style scoped>\n",
       "    .dataframe tbody tr th:only-of-type {\n",
       "        vertical-align: middle;\n",
       "    }\n",
       "\n",
       "    .dataframe tbody tr th {\n",
       "        vertical-align: top;\n",
       "    }\n",
       "\n",
       "    .dataframe thead th {\n",
       "        text-align: right;\n",
       "    }\n",
       "</style>\n",
       "<table border=\"1\" class=\"dataframe\">\n",
       "  <thead>\n",
       "    <tr style=\"text-align: right;\">\n",
       "      <th></th>\n",
       "      <th>Category</th>\n",
       "      <th>AverageDiscount</th>\n",
       "    </tr>\n",
       "  </thead>\n",
       "  <tbody>\n",
       "    <tr>\n",
       "      <th>0</th>\n",
       "      <td>Furniture</td>\n",
       "      <td>0.172962</td>\n",
       "    </tr>\n",
       "    <tr>\n",
       "      <th>1</th>\n",
       "      <td>Office Supplies</td>\n",
       "      <td>0.156348</td>\n",
       "    </tr>\n",
       "    <tr>\n",
       "      <th>2</th>\n",
       "      <td>Technology</td>\n",
       "      <td>0.131475</td>\n",
       "    </tr>\n",
       "  </tbody>\n",
       "</table>\n",
       "</div>"
      ],
      "text/plain": [
       "          Category  AverageDiscount\n",
       "0        Furniture         0.172962\n",
       "1  Office Supplies         0.156348\n",
       "2       Technology         0.131475"
      ]
     },
     "execution_count": 51,
     "metadata": {},
     "output_type": "execute_result"
    }
   ],
   "source": [
    "avg_discount_by_category"
   ]
  },
  {
   "cell_type": "markdown",
   "id": "2d9c4891-fff7-4c8e-8469-03c087b052cb",
   "metadata": {},
   "source": [
    "### 7. Total Quantity Ordered by Category"
   ]
  },
  {
   "cell_type": "code",
   "execution_count": 59,
   "id": "c896156e-e21b-428c-a432-e329141bd524",
   "metadata": {},
   "outputs": [],
   "source": [
    "query = \"\"\"\n",
    "SELECT Category, SUM(Quantity) AS TotalQuantity\n",
    "FROM orders\n",
    "GROUP BY Category\n",
    "ORDER BY TotalQuantity DESC;\n",
    "\"\"\""
   ]
  },
  {
   "cell_type": "code",
   "execution_count": 61,
   "id": "3d1b9d8f-1e47-40cd-b734-ab0385cba236",
   "metadata": {},
   "outputs": [],
   "source": [
    "quantity_by_category = pd.read_sql(query, conn)"
   ]
  },
  {
   "cell_type": "code",
   "execution_count": 63,
   "id": "cae11149-b380-4137-9808-539708575d04",
   "metadata": {},
   "outputs": [
    {
     "data": {
      "text/html": [
       "<div>\n",
       "<style scoped>\n",
       "    .dataframe tbody tr th:only-of-type {\n",
       "        vertical-align: middle;\n",
       "    }\n",
       "\n",
       "    .dataframe tbody tr th {\n",
       "        vertical-align: top;\n",
       "    }\n",
       "\n",
       "    .dataframe thead th {\n",
       "        text-align: right;\n",
       "    }\n",
       "</style>\n",
       "<table border=\"1\" class=\"dataframe\">\n",
       "  <thead>\n",
       "    <tr style=\"text-align: right;\">\n",
       "      <th></th>\n",
       "      <th>Category</th>\n",
       "      <th>TotalQuantity</th>\n",
       "    </tr>\n",
       "  </thead>\n",
       "  <tbody>\n",
       "    <tr>\n",
       "      <th>0</th>\n",
       "      <td>Office Supplies</td>\n",
       "      <td>23268</td>\n",
       "    </tr>\n",
       "    <tr>\n",
       "      <th>1</th>\n",
       "      <td>Furniture</td>\n",
       "      <td>8369</td>\n",
       "    </tr>\n",
       "    <tr>\n",
       "      <th>2</th>\n",
       "      <td>Technology</td>\n",
       "      <td>7017</td>\n",
       "    </tr>\n",
       "  </tbody>\n",
       "</table>\n",
       "</div>"
      ],
      "text/plain": [
       "          Category  TotalQuantity\n",
       "0  Office Supplies          23268\n",
       "1        Furniture           8369\n",
       "2       Technology           7017"
      ]
     },
     "execution_count": 63,
     "metadata": {},
     "output_type": "execute_result"
    }
   ],
   "source": [
    "quantity_by_category"
   ]
  },
  {
   "cell_type": "markdown",
   "id": "45ad1141-0bc3-4dca-8357-5210ae3d3ef4",
   "metadata": {},
   "source": [
    "### Total Quantity Ordered by Category:Pie Chart"
   ]
  },
  {
   "cell_type": "code",
   "execution_count": 278,
   "id": "dd509ecb-71da-4f03-ae45-1b08c6088558",
   "metadata": {},
   "outputs": [
    {
     "data": {
      "image/png": "[encoded data removed]",
      "text/plain": [
       "<Figure size 800x800 with 1 Axes>"
      ]
     },
     "metadata": {},
     "output_type": "display_data"
    }
   ],
   "source": [
    "plt.figure(figsize=(8,8))\n",
    "plt.pie(quantity_by_category['TotalQuantity'], labels=quantity_by_category['Category'], autopct='%1.1f%%', startangle=140, colors=['lightblue', 'lightgreen', 'lightcoral'])\n",
    "plt.title('Distribution of Quantity Sold by Category')\n",
    "plt.show()"
   ]
  },
  {
   "cell_type": "markdown",
   "id": "72c497a9-1077-4a81-a832-2dc9d71fa8df",
   "metadata": {},
   "source": [
    "### 8.Top 10 States by Profit"
   ]
  },
  {
   "cell_type": "code",
   "execution_count": 65,
   "id": "69326def-7613-4b3d-8868-3f16daca087b",
   "metadata": {},
   "outputs": [],
   "source": [
    "query = \"\"\"\n",
    "SELECT \"State/Province\", SUM(Profit) AS TotalProfit\n",
    "FROM orders\n",
    "GROUP BY \"State/Province\"\n",
    "ORDER BY TotalProfit DESC\n",
    "LIMIT 10;\n",
    "\"\"\""
   ]
  },
  {
   "cell_type": "code",
   "execution_count": 67,
   "id": "3cbd3d2c-ab9d-403e-99c5-f0d73d616aed",
   "metadata": {},
   "outputs": [],
   "source": [
    "top_states_by_profit = pd.read_sql(query, conn)"
   ]
  },
  {
   "cell_type": "code",
   "execution_count": 69,
   "id": "36e1df3e-c2d2-4838-83e7-4b661408a500",
   "metadata": {},
   "outputs": [
    {
     "data": {
      "text/html": [
       "<div>\n",
       "<style scoped>\n",
       "    .dataframe tbody tr th:only-of-type {\n",
       "        vertical-align: middle;\n",
       "    }\n",
       "\n",
       "    .dataframe tbody tr th {\n",
       "        vertical-align: top;\n",
       "    }\n",
       "\n",
       "    .dataframe thead th {\n",
       "        text-align: right;\n",
       "    }\n",
       "</style>\n",
       "<table border=\"1\" class=\"dataframe\">\n",
       "  <thead>\n",
       "    <tr style=\"text-align: right;\">\n",
       "      <th></th>\n",
       "      <th>State/Province</th>\n",
       "      <th>TotalProfit</th>\n",
       "    </tr>\n",
       "  </thead>\n",
       "  <tbody>\n",
       "    <tr>\n",
       "      <th>0</th>\n",
       "      <td>California</td>\n",
       "      <td>76381.3871</td>\n",
       "    </tr>\n",
       "    <tr>\n",
       "      <th>1</th>\n",
       "      <td>New York</td>\n",
       "      <td>74038.5486</td>\n",
       "    </tr>\n",
       "    <tr>\n",
       "      <th>2</th>\n",
       "      <td>Washington</td>\n",
       "      <td>33402.6517</td>\n",
       "    </tr>\n",
       "    <tr>\n",
       "      <th>3</th>\n",
       "      <td>Michigan</td>\n",
       "      <td>24463.1876</td>\n",
       "    </tr>\n",
       "    <tr>\n",
       "      <th>4</th>\n",
       "      <td>Virginia</td>\n",
       "      <td>18597.9504</td>\n",
       "    </tr>\n",
       "    <tr>\n",
       "      <th>5</th>\n",
       "      <td>Indiana</td>\n",
       "      <td>18382.9363</td>\n",
       "    </tr>\n",
       "    <tr>\n",
       "      <th>6</th>\n",
       "      <td>Georgia</td>\n",
       "      <td>16250.0433</td>\n",
       "    </tr>\n",
       "    <tr>\n",
       "      <th>7</th>\n",
       "      <td>Kentucky</td>\n",
       "      <td>11199.6966</td>\n",
       "    </tr>\n",
       "    <tr>\n",
       "      <th>8</th>\n",
       "      <td>Minnesota</td>\n",
       "      <td>10823.1874</td>\n",
       "    </tr>\n",
       "    <tr>\n",
       "      <th>9</th>\n",
       "      <td>Delaware</td>\n",
       "      <td>9977.3748</td>\n",
       "    </tr>\n",
       "  </tbody>\n",
       "</table>\n",
       "</div>"
      ],
      "text/plain": [
       "  State/Province  TotalProfit\n",
       "0     California   76381.3871\n",
       "1       New York   74038.5486\n",
       "2     Washington   33402.6517\n",
       "3       Michigan   24463.1876\n",
       "4       Virginia   18597.9504\n",
       "5        Indiana   18382.9363\n",
       "6        Georgia   16250.0433\n",
       "7       Kentucky   11199.6966\n",
       "8      Minnesota   10823.1874\n",
       "9       Delaware    9977.3748"
      ]
     },
     "execution_count": 69,
     "metadata": {},
     "output_type": "execute_result"
    }
   ],
   "source": [
    "top_states_by_profit"
   ]
  },
  {
   "cell_type": "markdown",
   "id": "8f9bd2d6-bc92-487e-8f40-05689510a1b9",
   "metadata": {},
   "source": [
    "### 9. Sales Performance by Segment"
   ]
  },
  {
   "cell_type": "code",
   "execution_count": 71,
   "id": "c30e4cf3-bead-4f89-8c6e-34c10a7f4b71",
   "metadata": {},
   "outputs": [],
   "source": [
    "query = \"\"\"\n",
    "SELECT Segment, SUM(Sales) AS TotalSales, SUM(Profit) AS TotalProfit\n",
    "FROM orders\n",
    "GROUP BY Segment\n",
    "ORDER BY TotalSales DESC;\n",
    "\"\"\""
   ]
  },
  {
   "cell_type": "code",
   "execution_count": 73,
   "id": "9b0e56a5-a444-4d8b-ae3c-22cdbeb8c946",
   "metadata": {},
   "outputs": [],
   "source": [
    "sales_by_segment = pd.read_sql(query, conn)"
   ]
  },
  {
   "cell_type": "code",
   "execution_count": 75,
   "id": "d7b8dfd3-7a3c-462e-92f6-663087cf2d0c",
   "metadata": {},
   "outputs": [
    {
     "data": {
      "text/html": [
       "<div>\n",
       "<style scoped>\n",
       "    .dataframe tbody tr th:only-of-type {\n",
       "        vertical-align: middle;\n",
       "    }\n",
       "\n",
       "    .dataframe tbody tr th {\n",
       "        vertical-align: top;\n",
       "    }\n",
       "\n",
       "    .dataframe thead th {\n",
       "        text-align: right;\n",
       "    }\n",
       "</style>\n",
       "<table border=\"1\" class=\"dataframe\">\n",
       "  <thead>\n",
       "    <tr style=\"text-align: right;\">\n",
       "      <th></th>\n",
       "      <th>Segment</th>\n",
       "      <th>TotalSales</th>\n",
       "      <th>TotalProfit</th>\n",
       "    </tr>\n",
       "  </thead>\n",
       "  <tbody>\n",
       "    <tr>\n",
       "      <th>0</th>\n",
       "      <td>Consumer</td>\n",
       "      <td>1.170660e+06</td>\n",
       "      <td>136371.4463</td>\n",
       "    </tr>\n",
       "    <tr>\n",
       "      <th>1</th>\n",
       "      <td>Corporate</td>\n",
       "      <td>7.158061e+05</td>\n",
       "      <td>94249.6400</td>\n",
       "    </tr>\n",
       "    <tr>\n",
       "      <th>2</th>\n",
       "      <td>Home Office</td>\n",
       "      <td>4.400684e+05</td>\n",
       "      <td>61675.7283</td>\n",
       "    </tr>\n",
       "  </tbody>\n",
       "</table>\n",
       "</div>"
      ],
      "text/plain": [
       "       Segment    TotalSales  TotalProfit\n",
       "0     Consumer  1.170660e+06  136371.4463\n",
       "1    Corporate  7.158061e+05   94249.6400\n",
       "2  Home Office  4.400684e+05   61675.7283"
      ]
     },
     "execution_count": 75,
     "metadata": {},
     "output_type": "execute_result"
    }
   ],
   "source": [
    "sales_by_segment"
   ]
  },
  {
   "cell_type": "markdown",
   "id": "08d7a778-0aae-433f-bbbf-df57eb081c23",
   "metadata": {},
   "source": [
    "### 10. Yearly Sales Trends"
   ]
  },
  {
   "cell_type": "code",
   "execution_count": 85,
   "id": "c2b8ffce-5418-48b8-a551-61ff51b2838b",
   "metadata": {},
   "outputs": [],
   "source": [
    "query_year = \"\"\"\n",
    "SELECT strftime('%Y', \"Order Date\") AS Year,\n",
    "       SUM(Sales) AS TotalSales\n",
    "FROM orders\n",
    "GROUP BY Year\n",
    "ORDER BY Year;\n",
    "\"\"\""
   ]
  },
  {
   "cell_type": "code",
   "execution_count": 87,
   "id": "e970dfbc-7b73-4f26-94c2-c7972d7612e9",
   "metadata": {},
   "outputs": [],
   "source": [
    "yearly_sales_trend = pd.read_sql(query_year, conn)\n"
   ]
  },
  {
   "cell_type": "code",
   "execution_count": 89,
   "id": "5b45bd74-585b-4a32-8bb1-4669ba324df0",
   "metadata": {},
   "outputs": [
    {
     "data": {
      "text/html": [
       "<div>\n",
       "<style scoped>\n",
       "    .dataframe tbody tr th:only-of-type {\n",
       "        vertical-align: middle;\n",
       "    }\n",
       "\n",
       "    .dataframe tbody tr th {\n",
       "        vertical-align: top;\n",
       "    }\n",
       "\n",
       "    .dataframe thead th {\n",
       "        text-align: right;\n",
       "    }\n",
       "</style>\n",
       "<table border=\"1\" class=\"dataframe\">\n",
       "  <thead>\n",
       "    <tr style=\"text-align: right;\">\n",
       "      <th></th>\n",
       "      <th>Year</th>\n",
       "      <th>TotalSales</th>\n",
       "    </tr>\n",
       "  </thead>\n",
       "  <tbody>\n",
       "    <tr>\n",
       "      <th>0</th>\n",
       "      <td>2019</td>\n",
       "      <td>494040.2121</td>\n",
       "    </tr>\n",
       "    <tr>\n",
       "      <th>1</th>\n",
       "      <td>2020</td>\n",
       "      <td>472993.0310</td>\n",
       "    </tr>\n",
       "    <tr>\n",
       "      <th>2</th>\n",
       "      <td>2021</td>\n",
       "      <td>613933.5800</td>\n",
       "    </tr>\n",
       "    <tr>\n",
       "      <th>3</th>\n",
       "      <td>2022</td>\n",
       "      <td>745567.5312</td>\n",
       "    </tr>\n",
       "  </tbody>\n",
       "</table>\n",
       "</div>"
      ],
      "text/plain": [
       "   Year   TotalSales\n",
       "0  2019  494040.2121\n",
       "1  2020  472993.0310\n",
       "2  2021  613933.5800\n",
       "3  2022  745567.5312"
      ]
     },
     "execution_count": 89,
     "metadata": {},
     "output_type": "execute_result"
    }
   ],
   "source": [
    "yearly_sales_trend"
   ]
  },
  {
   "cell_type": "code",
   "execution_count": 97,
   "id": "5fadde63-0df2-47c3-94cb-0d1a2f2682da",
   "metadata": {},
   "outputs": [],
   "source": [
    "import matplotlib.pyplot as plt"
   ]
  },
  {
   "cell_type": "markdown",
   "id": "4e4f07af-38a8-473f-8abf-f71763aad1d8",
   "metadata": {},
   "source": [
    "### For Monthly Sales by Month Name: Line chart"
   ]
  },
  {
   "cell_type": "code",
   "execution_count": 142,
   "id": "a75f92a6-df26-414f-9517-c65719f88802",
   "metadata": {},
   "outputs": [
    {
     "data": {
      "image/png": "[encoded data removed]",
      "text/plain": [
       "<Figure size 1000x600 with 1 Axes>"
      ]
     },
     "metadata": {},
     "output_type": "display_data"
    }
   ],
   "source": [
    "plt.figure(figsize=(10,6))\n",
    "plt.plot(monthly_sales_by_month['MonthName'], monthly_sales_by_month['TotalSales'], marker='o', color='skyblue')\n",
    "plt.title('Total Sales by Month Name')\n",
    "plt.xlabel('Month')\n",
    "plt.ylabel('Total Sales')\n",
    "plt.xticks(rotation=45)\n",
    "plt.grid(True)\n",
    "plt.show()"
   ]
  },
  {
   "cell_type": "markdown",
   "id": "4d550e6b-f109-44f9-a084-8f74189f53f7",
   "metadata": {},
   "source": [
    "###  For Yearly Sales Trends:Line Chart"
   ]
  },
  {
   "cell_type": "code",
   "execution_count": 150,
   "id": "6f9e22b8-2e7a-4ea6-bc0e-120059e477c1",
   "metadata": {},
   "outputs": [
    {
     "data": {
      "image/png": "[encoded data removed]",
      "text/plain": [
       "<Figure size 1000x600 with 1 Axes>"
      ]
     },
     "metadata": {},
     "output_type": "display_data"
    }
   ],
   "source": [
    "plt.figure(figsize=(10,6))\n",
    "plt.plot(yearly_sales_trend['Year'], yearly_sales_trend['TotalSales'], marker='o', color='orange')\n",
    "plt.title('Total Sales by Year')\n",
    "plt.xlabel('Year')\n",
    "plt.ylabel('Total Sales')\n",
    "plt.xticks(rotation=45)\n",
    "plt.grid(True)\n",
    "plt.show()"
   ]
  },
  {
   "cell_type": "markdown",
   "id": "c75262cd-7fad-467e-9cc2-fe798d33fcc4",
   "metadata": {},
   "source": [
    "### 11. Top 5 Products by Total Sales"
   ]
  },
  {
   "cell_type": "code",
   "execution_count": 184,
   "id": "9b87f730-8723-428f-ad2c-96651f1502c0",
   "metadata": {},
   "outputs": [],
   "source": [
    "query = \"\"\"\n",
    "WITH ProductSales AS (\n",
    "    SELECT \"Product Name\",\n",
    "           SUM(Sales) AS TotalSales\n",
    "    FROM orders\n",
    "    GROUP BY \"Product Name\"\n",
    ")\n",
    "SELECT \"Product Name\", TotalSales\n",
    "FROM ProductSales\n",
    "ORDER BY TotalSales DESC\n",
    "LIMIT 5;\n",
    "\"\"\""
   ]
  },
  {
   "cell_type": "code",
   "execution_count": 186,
   "id": "093cace6-21f8-4ce2-acb7-124b7332ba70",
   "metadata": {},
   "outputs": [],
   "source": [
    "top_5_products = pd.read_sql_query(query, conn)"
   ]
  },
  {
   "cell_type": "code",
   "execution_count": 188,
   "id": "cf3f6b7a-2c39-4e69-bda3-2f1f33f30db3",
   "metadata": {},
   "outputs": [
    {
     "data": {
      "text/html": [
       "<div>\n",
       "<style scoped>\n",
       "    .dataframe tbody tr th:only-of-type {\n",
       "        vertical-align: middle;\n",
       "    }\n",
       "\n",
       "    .dataframe tbody tr th {\n",
       "        vertical-align: top;\n",
       "    }\n",
       "\n",
       "    .dataframe thead th {\n",
       "        text-align: right;\n",
       "    }\n",
       "</style>\n",
       "<table border=\"1\" class=\"dataframe\">\n",
       "  <thead>\n",
       "    <tr style=\"text-align: right;\">\n",
       "      <th></th>\n",
       "      <th>Product Name</th>\n",
       "      <th>TotalSales</th>\n",
       "    </tr>\n",
       "  </thead>\n",
       "  <tbody>\n",
       "    <tr>\n",
       "      <th>0</th>\n",
       "      <td>Canon imageCLASS 2200 Advanced Copier</td>\n",
       "      <td>61599.824</td>\n",
       "    </tr>\n",
       "    <tr>\n",
       "      <th>1</th>\n",
       "      <td>Fellowes PB500 Electric Punch Plastic Comb Bin...</td>\n",
       "      <td>27453.384</td>\n",
       "    </tr>\n",
       "    <tr>\n",
       "      <th>2</th>\n",
       "      <td>Cisco TelePresence System EX90 Videoconferenci...</td>\n",
       "      <td>22638.480</td>\n",
       "    </tr>\n",
       "    <tr>\n",
       "      <th>3</th>\n",
       "      <td>HON 5400 Series Task Chairs for Big and Tall</td>\n",
       "      <td>21870.576</td>\n",
       "    </tr>\n",
       "    <tr>\n",
       "      <th>4</th>\n",
       "      <td>GBC DocuBind TL300 Electric Binding System</td>\n",
       "      <td>19823.479</td>\n",
       "    </tr>\n",
       "  </tbody>\n",
       "</table>\n",
       "</div>"
      ],
      "text/plain": [
       "                                        Product Name  TotalSales\n",
       "0              Canon imageCLASS 2200 Advanced Copier   61599.824\n",
       "1  Fellowes PB500 Electric Punch Plastic Comb Bin...   27453.384\n",
       "2  Cisco TelePresence System EX90 Videoconferenci...   22638.480\n",
       "3       HON 5400 Series Task Chairs for Big and Tall   21870.576\n",
       "4         GBC DocuBind TL300 Electric Binding System   19823.479"
      ]
     },
     "execution_count": 188,
     "metadata": {},
     "output_type": "execute_result"
    }
   ],
   "source": [
    "top_5_products"
   ]
  },
  {
   "cell_type": "markdown",
   "id": "ae1b1f74-3354-4ac4-af30-8e52451a5802",
   "metadata": {},
   "source": [
    "### 12. Yearly Average Discount by Region"
   ]
  },
  {
   "cell_type": "code",
   "execution_count": 201,
   "id": "47bd7ec8-9a62-4d42-8ae4-aff1042bce63",
   "metadata": {},
   "outputs": [],
   "source": [
    "query = \"\"\"\n",
    "SELECT strftime('%Y', \"Order Date\") AS Year,\n",
    "       \"Region\",\n",
    "       AVG(Discount) AS AverageDiscount\n",
    "FROM orders\n",
    "GROUP BY Year, \"Region\"\n",
    "ORDER BY Year, \"Region\";\n",
    "\"\"\""
   ]
  },
  {
   "cell_type": "code",
   "execution_count": 203,
   "id": "ad10eb36-f143-47bc-8ab8-8ef1a0406ade",
   "metadata": {},
   "outputs": [],
   "source": [
    "yearly_avg_discount = pd.read_sql_query(query, conn)"
   ]
  },
  {
   "cell_type": "code",
   "execution_count": 205,
   "id": "e7fd19c1-6ec1-4ab7-b67d-6902702c4328",
   "metadata": {},
   "outputs": [
    {
     "data": {
      "text/html": [
       "<div>\n",
       "<style scoped>\n",
       "    .dataframe tbody tr th:only-of-type {\n",
       "        vertical-align: middle;\n",
       "    }\n",
       "\n",
       "    .dataframe tbody tr th {\n",
       "        vertical-align: top;\n",
       "    }\n",
       "\n",
       "    .dataframe thead th {\n",
       "        text-align: right;\n",
       "    }\n",
       "</style>\n",
       "<table border=\"1\" class=\"dataframe\">\n",
       "  <thead>\n",
       "    <tr style=\"text-align: right;\">\n",
       "      <th></th>\n",
       "      <th>Year</th>\n",
       "      <th>Region</th>\n",
       "      <th>AverageDiscount</th>\n",
       "    </tr>\n",
       "  </thead>\n",
       "  <tbody>\n",
       "    <tr>\n",
       "      <th>0</th>\n",
       "      <td>2019</td>\n",
       "      <td>Central</td>\n",
       "      <td>0.264936</td>\n",
       "    </tr>\n",
       "    <tr>\n",
       "      <th>1</th>\n",
       "      <td>2019</td>\n",
       "      <td>East</td>\n",
       "      <td>0.150893</td>\n",
       "    </tr>\n",
       "    <tr>\n",
       "      <th>2</th>\n",
       "      <td>2019</td>\n",
       "      <td>South</td>\n",
       "      <td>0.120487</td>\n",
       "    </tr>\n",
       "    <tr>\n",
       "      <th>3</th>\n",
       "      <td>2019</td>\n",
       "      <td>West</td>\n",
       "      <td>0.102737</td>\n",
       "    </tr>\n",
       "    <tr>\n",
       "      <th>4</th>\n",
       "      <td>2020</td>\n",
       "      <td>Central</td>\n",
       "      <td>0.240630</td>\n",
       "    </tr>\n",
       "    <tr>\n",
       "      <th>5</th>\n",
       "      <td>2020</td>\n",
       "      <td>East</td>\n",
       "      <td>0.134940</td>\n",
       "    </tr>\n",
       "    <tr>\n",
       "      <th>6</th>\n",
       "      <td>2020</td>\n",
       "      <td>South</td>\n",
       "      <td>0.156912</td>\n",
       "    </tr>\n",
       "    <tr>\n",
       "      <th>7</th>\n",
       "      <td>2020</td>\n",
       "      <td>West</td>\n",
       "      <td>0.112154</td>\n",
       "    </tr>\n",
       "    <tr>\n",
       "      <th>8</th>\n",
       "      <td>2021</td>\n",
       "      <td>Central</td>\n",
       "      <td>0.221872</td>\n",
       "    </tr>\n",
       "    <tr>\n",
       "      <th>9</th>\n",
       "      <td>2021</td>\n",
       "      <td>East</td>\n",
       "      <td>0.143413</td>\n",
       "    </tr>\n",
       "    <tr>\n",
       "      <th>10</th>\n",
       "      <td>2021</td>\n",
       "      <td>South</td>\n",
       "      <td>0.151695</td>\n",
       "    </tr>\n",
       "    <tr>\n",
       "      <th>11</th>\n",
       "      <td>2021</td>\n",
       "      <td>West</td>\n",
       "      <td>0.116503</td>\n",
       "    </tr>\n",
       "    <tr>\n",
       "      <th>12</th>\n",
       "      <td>2022</td>\n",
       "      <td>Central</td>\n",
       "      <td>0.241862</td>\n",
       "    </tr>\n",
       "    <tr>\n",
       "      <th>13</th>\n",
       "      <td>2022</td>\n",
       "      <td>East</td>\n",
       "      <td>0.144974</td>\n",
       "    </tr>\n",
       "    <tr>\n",
       "      <th>14</th>\n",
       "      <td>2022</td>\n",
       "      <td>South</td>\n",
       "      <td>0.155405</td>\n",
       "    </tr>\n",
       "    <tr>\n",
       "      <th>15</th>\n",
       "      <td>2022</td>\n",
       "      <td>West</td>\n",
       "      <td>0.105306</td>\n",
       "    </tr>\n",
       "  </tbody>\n",
       "</table>\n",
       "</div>"
      ],
      "text/plain": [
       "    Year   Region  AverageDiscount\n",
       "0   2019  Central         0.264936\n",
       "1   2019     East         0.150893\n",
       "2   2019    South         0.120487\n",
       "3   2019     West         0.102737\n",
       "4   2020  Central         0.240630\n",
       "5   2020     East         0.134940\n",
       "6   2020    South         0.156912\n",
       "7   2020     West         0.112154\n",
       "8   2021  Central         0.221872\n",
       "9   2021     East         0.143413\n",
       "10  2021    South         0.151695\n",
       "11  2021     West         0.116503\n",
       "12  2022  Central         0.241862\n",
       "13  2022     East         0.144974\n",
       "14  2022    South         0.155405\n",
       "15  2022     West         0.105306"
      ]
     },
     "execution_count": 205,
     "metadata": {},
     "output_type": "execute_result"
    }
   ],
   "source": [
    "yearly_avg_discount"
   ]
  },
  {
   "cell_type": "markdown",
   "id": "13d833b4-99ef-4888-8d26-174676532093",
   "metadata": {},
   "source": [
    "### 13. Customer Segments with Highest Profit"
   ]
  },
  {
   "cell_type": "code",
   "execution_count": 208,
   "id": "420ab86a-cb56-4dad-8f05-9c988317c0c3",
   "metadata": {},
   "outputs": [],
   "source": [
    "query = \"\"\"\n",
    "SELECT \"Segment\",\n",
    "       SUM(Profit) AS TotalProfit\n",
    "FROM orders\n",
    "GROUP BY \"Segment\"\n",
    "HAVING TotalProfit > 100000\n",
    "ORDER BY TotalProfit DESC;\n",
    "\"\"\""
   ]
  },
  {
   "cell_type": "code",
   "execution_count": 210,
   "id": "614d04e7-7b75-460a-9aba-519ce761e20a",
   "metadata": {},
   "outputs": [],
   "source": [
    "customer_segments_profit = pd.read_sql_query(query, conn)"
   ]
  },
  {
   "cell_type": "code",
   "execution_count": 212,
   "id": "035fc433-b09b-487b-a34c-056ab74b49ca",
   "metadata": {},
   "outputs": [
    {
     "data": {
      "text/html": [
       "<div>\n",
       "<style scoped>\n",
       "    .dataframe tbody tr th:only-of-type {\n",
       "        vertical-align: middle;\n",
       "    }\n",
       "\n",
       "    .dataframe tbody tr th {\n",
       "        vertical-align: top;\n",
       "    }\n",
       "\n",
       "    .dataframe thead th {\n",
       "        text-align: right;\n",
       "    }\n",
       "</style>\n",
       "<table border=\"1\" class=\"dataframe\">\n",
       "  <thead>\n",
       "    <tr style=\"text-align: right;\">\n",
       "      <th></th>\n",
       "      <th>Segment</th>\n",
       "      <th>TotalProfit</th>\n",
       "    </tr>\n",
       "  </thead>\n",
       "  <tbody>\n",
       "    <tr>\n",
       "      <th>0</th>\n",
       "      <td>Consumer</td>\n",
       "      <td>136371.4463</td>\n",
       "    </tr>\n",
       "  </tbody>\n",
       "</table>\n",
       "</div>"
      ],
      "text/plain": [
       "    Segment  TotalProfit\n",
       "0  Consumer  136371.4463"
      ]
     },
     "execution_count": 212,
     "metadata": {},
     "output_type": "execute_result"
    }
   ],
   "source": [
    "customer_segments_profit"
   ]
  },
  {
   "cell_type": "markdown",
   "id": "b79a12f1-4fb9-4008-b532-e9b9b0c8a62e",
   "metadata": {},
   "source": [
    "### 14. Top 3 Regions by Total Quantity Ordered"
   ]
  },
  {
   "cell_type": "code",
   "execution_count": 298,
   "id": "f4d12076-23b3-4360-8e18-778e9c99e1a5",
   "metadata": {},
   "outputs": [],
   "source": [
    "query = \"\"\"\n",
    "SELECT \"Region\",\n",
    "       SUM(Quantity) AS TotalQuantity\n",
    "FROM orders\n",
    "GROUP BY \"Region\"\n",
    "ORDER BY TotalQuantity DESC\n",
    "LIMIT 3;\n",
    "\"\"\""
   ]
  },
  {
   "cell_type": "code",
   "execution_count": 217,
   "id": "52331f0c-ef3d-423f-beb4-1e7099c64702",
   "metadata": {},
   "outputs": [],
   "source": [
    "top_3_regions_quantity = pd.read_sql_query(query, conn)"
   ]
  },
  {
   "cell_type": "code",
   "execution_count": 219,
   "id": "94f4c2d1-f46c-4cdf-a23d-c3973679e24a",
   "metadata": {},
   "outputs": [
    {
     "data": {
      "text/html": [
       "<div>\n",
       "<style scoped>\n",
       "    .dataframe tbody tr th:only-of-type {\n",
       "        vertical-align: middle;\n",
       "    }\n",
       "\n",
       "    .dataframe tbody tr th {\n",
       "        vertical-align: top;\n",
       "    }\n",
       "\n",
       "    .dataframe thead th {\n",
       "        text-align: right;\n",
       "    }\n",
       "</style>\n",
       "<table border=\"1\" class=\"dataframe\">\n",
       "  <thead>\n",
       "    <tr style=\"text-align: right;\">\n",
       "      <th></th>\n",
       "      <th>Region</th>\n",
       "      <th>TotalQuantity</th>\n",
       "    </tr>\n",
       "  </thead>\n",
       "  <tbody>\n",
       "    <tr>\n",
       "      <th>0</th>\n",
       "      <td>West</td>\n",
       "      <td>12466</td>\n",
       "    </tr>\n",
       "    <tr>\n",
       "      <th>1</th>\n",
       "      <td>East</td>\n",
       "      <td>11159</td>\n",
       "    </tr>\n",
       "    <tr>\n",
       "      <th>2</th>\n",
       "      <td>Central</td>\n",
       "      <td>8820</td>\n",
       "    </tr>\n",
       "  </tbody>\n",
       "</table>\n",
       "</div>"
      ],
      "text/plain": [
       "    Region  TotalQuantity\n",
       "0     West          12466\n",
       "1     East          11159\n",
       "2  Central           8820"
      ]
     },
     "execution_count": 219,
     "metadata": {},
     "output_type": "execute_result"
    }
   ],
   "source": [
    "top_3_regions_quantity"
   ]
  },
  {
   "cell_type": "markdown",
   "id": "f97c0954-3a5c-40a9-8538-2c375a3f66ee",
   "metadata": {},
   "source": [
    "### 15.Customers with No Orders"
   ]
  },
  {
   "cell_type": "code",
   "execution_count": 229,
   "id": "c6b40d19-c982-47d2-9beb-1ef02255e4af",
   "metadata": {},
   "outputs": [],
   "source": [
    "query = \"\"\"\n",
    "SELECT DISTINCT \"Customer ID\"\n",
    "FROM orders\n",
    "WHERE \"Customer ID\" NOT IN (\n",
    "    SELECT DISTINCT \"Customer ID\"\n",
    "    FROM orders\n",
    ");\n",
    "\"\"\""
   ]
  },
  {
   "cell_type": "code",
   "execution_count": 231,
   "id": "dbddb963-769e-46a8-91d9-ac083af0eaff",
   "metadata": {},
   "outputs": [],
   "source": [
    "customers_no_orders = pd.read_sql_query(query, conn)"
   ]
  },
  {
   "cell_type": "code",
   "execution_count": 233,
   "id": "42c2a8c1-0961-4749-a72c-9a9153cb77f6",
   "metadata": {},
   "outputs": [
    {
     "data": {
      "text/html": [
       "<div>\n",
       "<style scoped>\n",
       "    .dataframe tbody tr th:only-of-type {\n",
       "        vertical-align: middle;\n",
       "    }\n",
       "\n",
       "    .dataframe tbody tr th {\n",
       "        vertical-align: top;\n",
       "    }\n",
       "\n",
       "    .dataframe thead th {\n",
       "        text-align: right;\n",
       "    }\n",
       "</style>\n",
       "<table border=\"1\" class=\"dataframe\">\n",
       "  <thead>\n",
       "    <tr style=\"text-align: right;\">\n",
       "      <th></th>\n",
       "      <th>Customer ID</th>\n",
       "    </tr>\n",
       "  </thead>\n",
       "  <tbody>\n",
       "  </tbody>\n",
       "</table>\n",
       "</div>"
      ],
      "text/plain": [
       "Empty DataFrame\n",
       "Columns: [Customer ID]\n",
       "Index: []"
      ]
     },
     "execution_count": 233,
     "metadata": {},
     "output_type": "execute_result"
    }
   ],
   "source": [
    "customers_no_orders"
   ]
  },
  {
   "cell_type": "markdown",
   "id": "af46937a-3a3e-4be9-814b-f756142314af",
   "metadata": {},
   "source": [
    "### 16. Total Profit by State and Product Category"
   ]
  },
  {
   "cell_type": "code",
   "execution_count": 236,
   "id": "fefd6793-887b-4f04-ba5c-e3e79455f9ec",
   "metadata": {},
   "outputs": [],
   "source": [
    "query = \"\"\"\n",
    "SELECT \"State/Province\",\n",
    "       \"Category\",\n",
    "       SUM(Profit) AS TotalProfit\n",
    "FROM orders\n",
    "GROUP BY \"State/Province\", \"Category\"\n",
    "ORDER BY TotalProfit DESC;\n",
    "\"\"\""
   ]
  },
  {
   "cell_type": "code",
   "execution_count": 238,
   "id": "61f5fccd-1aa6-4c8f-bbcc-c6dc9d05562b",
   "metadata": {},
   "outputs": [],
   "source": [
    "profit_by_state_category = pd.read_sql_query(query, conn)"
   ]
  },
  {
   "cell_type": "code",
   "execution_count": 240,
   "id": "61f4fe54-f4f3-48db-aa8f-926f0bea183b",
   "metadata": {},
   "outputs": [
    {
     "data": {
      "text/html": [
       "<div>\n",
       "<style scoped>\n",
       "    .dataframe tbody tr th:only-of-type {\n",
       "        vertical-align: middle;\n",
       "    }\n",
       "\n",
       "    .dataframe tbody tr th {\n",
       "        vertical-align: top;\n",
       "    }\n",
       "\n",
       "    .dataframe thead th {\n",
       "        text-align: right;\n",
       "    }\n",
       "</style>\n",
       "<table border=\"1\" class=\"dataframe\">\n",
       "  <thead>\n",
       "    <tr style=\"text-align: right;\">\n",
       "      <th></th>\n",
       "      <th>State/Province</th>\n",
       "      <th>Category</th>\n",
       "      <th>TotalProfit</th>\n",
       "    </tr>\n",
       "  </thead>\n",
       "  <tbody>\n",
       "    <tr>\n",
       "      <th>0</th>\n",
       "      <td>New York</td>\n",
       "      <td>Technology</td>\n",
       "      <td>42186.7856</td>\n",
       "    </tr>\n",
       "    <tr>\n",
       "      <th>1</th>\n",
       "      <td>California</td>\n",
       "      <td>Office Supplies</td>\n",
       "      <td>37748.3847</td>\n",
       "    </tr>\n",
       "    <tr>\n",
       "      <th>2</th>\n",
       "      <td>California</td>\n",
       "      <td>Technology</td>\n",
       "      <td>29470.0368</td>\n",
       "    </tr>\n",
       "    <tr>\n",
       "      <th>3</th>\n",
       "      <td>New York</td>\n",
       "      <td>Office Supplies</td>\n",
       "      <td>25994.0829</td>\n",
       "    </tr>\n",
       "    <tr>\n",
       "      <th>4</th>\n",
       "      <td>Washington</td>\n",
       "      <td>Technology</td>\n",
       "      <td>15019.3435</td>\n",
       "    </tr>\n",
       "    <tr>\n",
       "      <th>...</th>\n",
       "      <td>...</td>\n",
       "      <td>...</td>\n",
       "      <td>...</td>\n",
       "    </tr>\n",
       "    <tr>\n",
       "      <th>159</th>\n",
       "      <td>Illinois</td>\n",
       "      <td>Office Supplies</td>\n",
       "      <td>-8354.1568</td>\n",
       "    </tr>\n",
       "    <tr>\n",
       "      <th>160</th>\n",
       "      <td>Illinois</td>\n",
       "      <td>Furniture</td>\n",
       "      <td>-9076.2894</td>\n",
       "    </tr>\n",
       "    <tr>\n",
       "      <th>161</th>\n",
       "      <td>Texas</td>\n",
       "      <td>Furniture</td>\n",
       "      <td>-10436.1419</td>\n",
       "    </tr>\n",
       "    <tr>\n",
       "      <th>162</th>\n",
       "      <td>Ohio</td>\n",
       "      <td>Technology</td>\n",
       "      <td>-12649.9401</td>\n",
       "    </tr>\n",
       "    <tr>\n",
       "      <th>163</th>\n",
       "      <td>Texas</td>\n",
       "      <td>Office Supplies</td>\n",
       "      <td>-18584.6434</td>\n",
       "    </tr>\n",
       "  </tbody>\n",
       "</table>\n",
       "<p>164 rows × 3 columns</p>\n",
       "</div>"
      ],
      "text/plain": [
       "    State/Province         Category  TotalProfit\n",
       "0         New York       Technology   42186.7856\n",
       "1       California  Office Supplies   37748.3847\n",
       "2       California       Technology   29470.0368\n",
       "3         New York  Office Supplies   25994.0829\n",
       "4       Washington       Technology   15019.3435\n",
       "..             ...              ...          ...\n",
       "159       Illinois  Office Supplies   -8354.1568\n",
       "160       Illinois        Furniture   -9076.2894\n",
       "161          Texas        Furniture  -10436.1419\n",
       "162           Ohio       Technology  -12649.9401\n",
       "163          Texas  Office Supplies  -18584.6434\n",
       "\n",
       "[164 rows x 3 columns]"
      ]
     },
     "execution_count": 240,
     "metadata": {},
     "output_type": "execute_result"
    }
   ],
   "source": [
    "profit_by_state_category"
   ]
  },
  {
   "cell_type": "markdown",
   "id": "0efe92ee-03e9-4fb5-ab6e-bf2056119ca2",
   "metadata": {},
   "source": [
    "### 17. Monthly Sales for Each Ship Mode"
   ]
  },
  {
   "cell_type": "code",
   "execution_count": 243,
   "id": "1bdd02dc-e519-4dc2-aa22-4bae5395a15d",
   "metadata": {},
   "outputs": [],
   "source": [
    "query = \"\"\"\n",
    "SELECT strftime('%Y-%m', \"Order Date\") AS MonthYear,\n",
    "       \"Ship Mode\",\n",
    "       SUM(Sales) AS TotalSales\n",
    "FROM orders\n",
    "GROUP BY MonthYear, \"Ship Mode\"\n",
    "ORDER BY MonthYear, \"Ship Mode\";\n",
    "\"\"\""
   ]
  },
  {
   "cell_type": "code",
   "execution_count": 245,
   "id": "6a097143-bbb2-4e6f-a908-f55ef754a3da",
   "metadata": {},
   "outputs": [],
   "source": [
    "monthly_sales_ship_mode = pd.read_sql_query(query, conn)"
   ]
  },
  {
   "cell_type": "code",
   "execution_count": 270,
   "id": "fc1ab076-febf-4fec-8159-ee15eaf2e00f",
   "metadata": {},
   "outputs": [
    {
     "data": {
      "text/html": [
       "<div>\n",
       "<style scoped>\n",
       "    .dataframe tbody tr th:only-of-type {\n",
       "        vertical-align: middle;\n",
       "    }\n",
       "\n",
       "    .dataframe tbody tr th {\n",
       "        vertical-align: top;\n",
       "    }\n",
       "\n",
       "    .dataframe thead th {\n",
       "        text-align: right;\n",
       "    }\n",
       "</style>\n",
       "<table border=\"1\" class=\"dataframe\">\n",
       "  <thead>\n",
       "    <tr style=\"text-align: right;\">\n",
       "      <th></th>\n",
       "      <th>MonthYear</th>\n",
       "      <th>Ship Mode</th>\n",
       "      <th>TotalSales</th>\n",
       "    </tr>\n",
       "  </thead>\n",
       "  <tbody>\n",
       "    <tr>\n",
       "      <th>0</th>\n",
       "      <td>2019-01</td>\n",
       "      <td>First Class</td>\n",
       "      <td>1056.5300</td>\n",
       "    </tr>\n",
       "    <tr>\n",
       "      <th>1</th>\n",
       "      <td>2019-01</td>\n",
       "      <td>Second Class</td>\n",
       "      <td>2242.7160</td>\n",
       "    </tr>\n",
       "    <tr>\n",
       "      <th>2</th>\n",
       "      <td>2019-01</td>\n",
       "      <td>Standard Class</td>\n",
       "      <td>11218.8090</td>\n",
       "    </tr>\n",
       "    <tr>\n",
       "      <th>3</th>\n",
       "      <td>2019-02</td>\n",
       "      <td>First Class</td>\n",
       "      <td>843.9160</td>\n",
       "    </tr>\n",
       "    <tr>\n",
       "      <th>4</th>\n",
       "      <td>2019-02</td>\n",
       "      <td>Same Day</td>\n",
       "      <td>25.1600</td>\n",
       "    </tr>\n",
       "    <tr>\n",
       "      <th>...</th>\n",
       "      <td>...</td>\n",
       "      <td>...</td>\n",
       "      <td>...</td>\n",
       "    </tr>\n",
       "    <tr>\n",
       "      <th>183</th>\n",
       "      <td>2022-11</td>\n",
       "      <td>Standard Class</td>\n",
       "      <td>64160.1610</td>\n",
       "    </tr>\n",
       "    <tr>\n",
       "      <th>184</th>\n",
       "      <td>2022-12</td>\n",
       "      <td>First Class</td>\n",
       "      <td>13929.7140</td>\n",
       "    </tr>\n",
       "    <tr>\n",
       "      <th>185</th>\n",
       "      <td>2022-12</td>\n",
       "      <td>Same Day</td>\n",
       "      <td>3128.7760</td>\n",
       "    </tr>\n",
       "    <tr>\n",
       "      <th>186</th>\n",
       "      <td>2022-12</td>\n",
       "      <td>Second Class</td>\n",
       "      <td>16377.6300</td>\n",
       "    </tr>\n",
       "    <tr>\n",
       "      <th>187</th>\n",
       "      <td>2022-12</td>\n",
       "      <td>Standard Class</td>\n",
       "      <td>51738.9128</td>\n",
       "    </tr>\n",
       "  </tbody>\n",
       "</table>\n",
       "<p>188 rows × 3 columns</p>\n",
       "</div>"
      ],
      "text/plain": [
       "    MonthYear       Ship Mode  TotalSales\n",
       "0     2019-01     First Class   1056.5300\n",
       "1     2019-01    Second Class   2242.7160\n",
       "2     2019-01  Standard Class  11218.8090\n",
       "3     2019-02     First Class    843.9160\n",
       "4     2019-02        Same Day     25.1600\n",
       "..        ...             ...         ...\n",
       "183   2022-11  Standard Class  64160.1610\n",
       "184   2022-12     First Class  13929.7140\n",
       "185   2022-12        Same Day   3128.7760\n",
       "186   2022-12    Second Class  16377.6300\n",
       "187   2022-12  Standard Class  51738.9128\n",
       "\n",
       "[188 rows x 3 columns]"
      ]
     },
     "execution_count": 270,
     "metadata": {},
     "output_type": "execute_result"
    }
   ],
   "source": [
    "monthly_sales_ship_mode"
   ]
  },
  {
   "cell_type": "markdown",
   "id": "370d6f2e-ba56-4883-aeee-d700706d5809",
   "metadata": {},
   "source": [
    "### Sales by ship mode: Pie Chart"
   ]
  },
  {
   "cell_type": "code",
   "execution_count": 303,
   "id": "6eee51d8-d28c-4e26-99b7-bdcf8f63c41d",
   "metadata": {},
   "outputs": [],
   "source": [
    "query = \"\"\"\n",
    "SELECT \"Ship Mode\", SUM(Sales) AS TotalSales\n",
    "FROM orders\n",
    "GROUP BY \"Ship Mode\";\n",
    "\"\"\""
   ]
  },
  {
   "cell_type": "code",
   "execution_count": 305,
   "id": "02215d29-36dd-45cd-a017-bca948f173d1",
   "metadata": {},
   "outputs": [],
   "source": [
    "sales_by_ship_mode = pd.read_sql_query(query, conn)"
   ]
  },
  {
   "cell_type": "code",
   "execution_count": 307,
   "id": "0756ca0e-66b5-4f52-9eb6-4e186655fdfb",
   "metadata": {},
   "outputs": [
    {
     "data": {
      "image/png": "[encoded data removed]",
      "text/plain": [
       "<Figure size 800x800 with 1 Axes>"
      ]
     },
     "metadata": {},
     "output_type": "display_data"
    }
   ],
   "source": [
    "plt.figure(figsize=(8,8))\n",
    "plt.pie(sales_by_ship_mode['TotalSales'], labels=sales_by_ship_mode['Ship Mode'], autopct='%1.1f%%', startangle=140, colors=['lightblue', 'lightgreen', 'lightcoral', 'gold'])\n",
    "plt.title('Sales Distribution by Ship Mode')\n",
    "plt.show()"
   ]
  },
  {
   "cell_type": "markdown",
   "id": "5a11093c-bd37-455a-bf61-ac783e475335",
   "metadata": {},
   "source": [
    "### Order Quantity Distribution:Histogram"
   ]
  },
  {
   "cell_type": "code",
   "execution_count": 314,
   "id": "b23622a4-574e-4658-9574-d46b5835e70e",
   "metadata": {},
   "outputs": [],
   "source": [
    "query = \"\"\"\n",
    "SELECT Quantity\n",
    "FROM orders;\n",
    "\"\"\""
   ]
  },
  {
   "cell_type": "code",
   "execution_count": 316,
   "id": "b8ffcf8c-12d9-4d5e-bab5-f729557e7bb9",
   "metadata": {},
   "outputs": [],
   "source": [
    "quantity_distribution = pd.read_sql_query(query, conn)"
   ]
  },
  {
   "cell_type": "code",
   "execution_count": 318,
   "id": "9711e25a-c2fc-4c99-9231-ba67aa2b6890",
   "metadata": {},
   "outputs": [
    {
     "data": {
      "image/png": "[encoded data removed]",
      "text/plain": [
       "<Figure size 1000x600 with 1 Axes>"
      ]
     },
     "metadata": {},
     "output_type": "display_data"
    }
   ],
   "source": [
    "plt.figure(figsize=(10,6))\n",
    "plt.hist(quantity_distribution['Quantity'], bins=20, color='purple', edgecolor='black')\n",
    "plt.title('Order Quantity Distribution')\n",
    "plt.xlabel('Quantity')\n",
    "plt.ylabel('Frequency')\n",
    "plt.grid(True)\n",
    "plt.show()"
   ]
  },
  {
   "cell_type": "markdown",
   "id": "0a56c789-7ad8-4482-9ea0-76feedac2714",
   "metadata": {},
   "source": [
    "### Close the connection to the database"
   ]
  },
  {
   "cell_type": "code",
   "execution_count": 322,
   "id": "5a7dc5ab-102b-46f7-bc1e-ff7914a56103",
   "metadata": {},
   "outputs": [],
   "source": [
    "conn.close()"
   ]
  },
  {
   "cell_type": "markdown",
   "id": "4daafd93-f2d2-442c-826e-0ab09657a7d5",
   "metadata": {},
   "source": [
    "# Conclusion\n",
    "\n",
    "Our SQL-driven analysis of the Superstore dataset provided valuable insights into sales and profitability. Through various SQL queries, we identified top-performing products, analyzed sales trends across different categories and regions, and examined profit distributions. The results, visualized through charts and graphs, highlight significant patterns and trends, enabling a deeper understanding of business performance. This approach demonstrates the effectiveness of SQL in handling complex data queries and provides actionable insights to guide strategic decision-making and improve overall business operations."
   ]
  }
 ],
 "metadata": {
  "kernelspec": {
   "display_name": "Python 3 (ipykernel)",
   "language": "python",
   "name": "python3"
  },
  "language_info": {
   "codemirror_mode": {
    "name": "ipython",
    "version": 3
   },
   "file_extension": ".py",
   "mimetype": "text/x-python",
   "name": "python",
   "nbconvert_exporter": "python",
   "pygments_lexer": "ipython3",
   "version": "3.12.4"
  }
 },
 "nbformat": 4,
 "nbformat_minor": 5
}
